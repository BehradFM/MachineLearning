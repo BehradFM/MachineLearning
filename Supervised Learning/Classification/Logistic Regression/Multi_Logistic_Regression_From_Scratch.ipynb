{
 "cells": [
  {
   "cell_type": "markdown",
   "id": "e67043e7",
   "metadata": {},
   "source": [
    "## Multi Logistic Regression From Scratch"
   ]
  },
  {
   "cell_type": "markdown",
   "id": "f24e5bc6",
   "metadata": {},
   "source": [
    "### Import"
   ]
  },
  {
   "cell_type": "code",
   "execution_count": 1,
   "id": "2e8961d1-1541-4968-b9d2-6598f50cc64e",
   "metadata": {},
   "outputs": [],
   "source": [
    "import numpy as np \n",
    "import pandas as pd \n",
    "import matplotlib.pyplot as plt\n",
    "from sklearn.model_selection import train_test_split\n",
    "from sklearn.datasets import load_iris\n",
    "from sklearn.preprocessing import label_binarize\n",
    "from mlxtend.plotting import plot_decision_regions"
   ]
  },
  {
   "cell_type": "markdown",
   "id": "c16b37cf",
   "metadata": {},
   "source": [
    "### Data"
   ]
  },
  {
   "cell_type": "code",
   "execution_count": 2,
   "id": "fa53c809-939c-4bf5-8448-a06dd398419c",
   "metadata": {},
   "outputs": [],
   "source": [
    "x , y = load_iris(return_X_y=True)"
   ]
  },
  {
   "cell_type": "code",
   "execution_count": 3,
   "id": "454539bd-6faa-41ee-82f9-9198f3ef8d12",
   "metadata": {},
   "outputs": [
    {
     "data": {
      "text/plain": [
       "((120, 4), (30, 4), (120,), (30,))"
      ]
     },
     "execution_count": 3,
     "metadata": {},
     "output_type": "execute_result"
    }
   ],
   "source": [
    "x_train , x_test , y_train , y_test = train_test_split(x , y , test_size=0.2 , random_state=8)\n",
    "\n",
    "x_train.shape , x_test.shape , y_train.shape , y_test.shape\n"
   ]
  },
  {
   "cell_type": "markdown",
   "id": "72ca27c9",
   "metadata": {},
   "source": [
    "### Functions"
   ]
  },
  {
   "cell_type": "code",
   "execution_count": 4,
   "id": "194b3410-604f-49e1-8636-a2dc0d98a185",
   "metadata": {},
   "outputs": [],
   "source": [
    "def sigmoid(x):\n",
    "    return 1 / (1 + np.exp(-x))\n",
    "\n",
    "def multi_logistic_reg(w , x):\n",
    "    y_hat = sigmoid(x@w)\n",
    "    return y_hat\n",
    "\n",
    "def bce(y , y_hat):\n",
    "    loss = -np.mean(np.sum(y*np.log(y_hat) + (1 - y) * np.log(1-y_hat) , 1))\n",
    "    return loss\n",
    "\n",
    "def gradient(x , y , y_hat):\n",
    "    grads = (x.T @ (y_hat - y)) / len(y)\n",
    "    return grads\n",
    "    \n",
    "def gradient_descent(w, eta, grads):\n",
    "    w -= eta*grads\n",
    "    return w\n",
    "\n",
    "def accuracy(y, y_hat):\n",
    "    acc = np.sum(y == np.argmax(y_hat, 1)) / len(y)\n",
    "    return acc"
   ]
  },
  {
   "cell_type": "markdown",
   "id": "c1e623f0",
   "metadata": {},
   "source": [
    "### Train Model"
   ]
  },
  {
   "cell_type": "code",
   "execution_count": 5,
   "id": "4ea6c4f0",
   "metadata": {},
   "outputs": [
    {
     "data": {
      "text/plain": [
       "((30, 5),\n",
       " (30,),\n",
       " array([0, 0, 0, 2, 1, 0, 0, 2, 2, 1, 1, 0, 2, 1, 2, 2, 2, 2, 1, 2, 1, 0,\n",
       "        1, 1, 1, 0, 2, 0, 0, 2]))"
      ]
     },
     "execution_count": 5,
     "metadata": {},
     "output_type": "execute_result"
    }
   ],
   "source": [
    "x_train = np.hstack((np.ones((x_train.shape[0] , 1)) , x_train))\n",
    "x_test = np.hstack((np.ones((len(x_test), 1)), x_test))\n",
    "y_train= label_binarize(y_train, classes=np.unique(y_train))\n",
    "y_test_binarized = label_binarize(y_test, classes=np.unique(y_test))\n",
    "\n",
    "x_test.shape, y_test.shape , y_test\n"
   ]
  },
  {
   "cell_type": "code",
   "execution_count": 6,
   "id": "458e2758-8c84-45db-8805-56eeb09dd4ef",
   "metadata": {},
   "outputs": [],
   "source": [
    "n, m = x_train.shape\n",
    "c = len(np.unique(y))\n",
    "\n",
    "w = np.random.randn(m, c)\n"
   ]
  },
  {
   "cell_type": "code",
   "execution_count": 7,
   "id": "49c60aed-dcc0-4ef9-b0d2-248ed2f8e3ba",
   "metadata": {},
   "outputs": [
    {
     "name": "stdout",
     "output_type": "stream",
     "text": [
      "Epoch=99, \t Loss_train=1.153,\t Loss_test=1.133, \t w=[-0.89802679  0.53353078  0.28538444 -0.70357767 -1.53687884]\n",
      "Epoch=199, \t Loss_train=1.076,\t Loss_test=1.058, \t w=[-0.8719306   0.57768493  0.43493444 -0.9196026  -1.62928123]\n",
      "Epoch=299, \t Loss_train=1.025,\t Loss_test=1.009, \t w=[-0.8531509   0.60858037  0.54401681 -1.07824255 -1.69702603]\n",
      "Epoch=399, \t Loss_train=0.9855,\t Loss_test=0.9724, \t w=[-0.83849278  0.63228504  0.62988826 -1.20361195 -1.75055188]\n",
      "Epoch=499, \t Loss_train=0.9539,\t Loss_test=0.9436, \t w=[-0.82647132  0.65150114  0.70073238 -1.30731324 -1.79484614]\n",
      "Epoch=599, \t Loss_train=0.9273,\t Loss_test=0.9197, \t w=[-0.8162796   0.66765595  0.76105714 -1.39578931 -1.83266617]\n",
      "Epoch=699, \t Loss_train=0.9043,\t Loss_test=0.8993, \t w=[-0.80743139  0.68159206  0.8136064  -1.4729819  -1.8656938 ]\n",
      "Epoch=799, \t Loss_train=0.884,\t Loss_test=0.8816, \t w=[-0.79961134  0.69384742  0.86017345 -1.54147635 -1.8950298 ]\n",
      "Epoch=899, \t Loss_train=0.866,\t Loss_test=0.866, \t w=[-0.79260347  0.704786    0.9019945  -1.60305949 -1.92143375]\n",
      "Epoch=999, \t Loss_train=0.8498,\t Loss_test=0.852, \t w=[-0.78625335  0.71466534  0.93995774 -1.65901771 -1.94545187]\n",
      "Epoch=1099, \t Loss_train=0.8351,\t Loss_test=0.8394, \t w=[-0.78044683  0.72367424  0.97472283 -1.71030795 -1.96749012]\n",
      "Epoch=1199, \t Loss_train=0.8217,\t Loss_test=0.8281, \t w=[-0.77509712  0.73195524  1.00679312 -1.75766135 -1.9878585 ]\n",
      "Epoch=1299, \t Loss_train=0.8095,\t Loss_test=0.8177, \t w=[-0.77013669  0.73961852  1.03656148 -1.80164919 -2.0067991 ]\n",
      "Epoch=1399, \t Loss_train=0.7982,\t Loss_test=0.8083, \t w=[-0.765512    0.74675101  1.06434041 -1.84272636 -2.02450461]\n",
      "Epoch=1499, \t Loss_train=0.7879,\t Loss_test=0.7996, \t w=[-0.76117985  0.7534225   1.09038265 -1.88126101 -2.04113096]\n",
      "Epoch=1599, \t Loss_train=0.7783,\t Loss_test=0.7916, \t w=[-0.7571049   0.75968984  1.11489545 -1.9175553  -2.0568061 ]\n",
      "Epoch=1699, \t Loss_train=0.7694,\t Loss_test=0.7842, \t w=[-0.75325784  0.76559998  1.13805095 -1.95186032 -2.07163635]\n",
      "Epoch=1799, \t Loss_train=0.7611,\t Loss_test=0.7773, \t w=[-0.74961415  0.77119213  1.15999365 -1.98438698 -2.085711  ]\n",
      "Epoch=1899, \t Loss_train=0.7534,\t Loss_test=0.7709, \t w=[-0.74615305  0.77649936  1.18084604 -2.01531419 -2.09910581]\n",
      "Epoch=1999, \t Loss_train=0.7462,\t Loss_test=0.765, \t w=[-0.7428568   0.78154984  1.2007129  -2.04479501 -2.1118856 ]\n",
      "Best epoch:1999, Best loss:0.7649931732936771\n"
     ]
    }
   ],
   "source": [
    "import joblib\n",
    "\n",
    "loss_train_hist, loss_test_hist = [], []\n",
    "best_loss = np.inf\n",
    "n_es = 0\n",
    "n_epochs = 2000\n",
    "eta = 0.02\n",
    "\n",
    "for epoch in range(n_epochs):\n",
    "    # predictions\n",
    "    y_hat_train = multi_logistic_reg(w, x_train)\n",
    "    y_hat_test = multi_logistic_reg(w, x_test)\n",
    "    \n",
    "    # loss\n",
    "    loss_train = bce(y_train , y_hat_train)\n",
    "    loss_train_hist.append(loss_train)\n",
    "    \n",
    "    loss_test = bce(y_test_binarized , y_hat_test)\n",
    "    loss_test_hist.append(loss_test)\n",
    "\n",
    "    # gradients\n",
    "    grads = gradient(x_train , y_train , y_hat_train)\n",
    "\n",
    "    # gradient descent\n",
    "    w = gradient_descent(w , eta , grads)\n",
    "\n",
    "    # early stopping\n",
    "    if loss_test < best_loss:\n",
    "        best_loss = loss_test\n",
    "        joblib.dump(w, 'best-model.joblib')\n",
    "        best_epoch = epoch\n",
    "        n_es = 0\n",
    "    else:\n",
    "        n_es += 1\n",
    "        if n_es >= 5:\n",
    "            break\n",
    "        \n",
    "    if (epoch+1) % 100 == 0:\n",
    "        print(f'Epoch={epoch}, \\t Loss_train={loss_train:.4},\\t Loss_test={loss_test:.4}, \\t w={w.T[0]}')\n",
    "\n",
    "print(f'Best epoch:{best_epoch}, Best loss:{best_loss}')"
   ]
  },
  {
   "cell_type": "markdown",
   "id": "66c4d426",
   "metadata": {},
   "source": [
    "### Visualize"
   ]
  },
  {
   "cell_type": "code",
   "execution_count": 8,
   "id": "6fa0b870-974d-40aa-827c-49a0c225d776",
   "metadata": {},
   "outputs": [
    {
     "data": {
      "image/png": "[encoded data removed]",
      "text/plain": [
       "<Figure size 640x480 with 1 Axes>"
      ]
     },
     "metadata": {},
     "output_type": "display_data"
    }
   ],
   "source": [
    "plt.plot(loss_train_hist, label='Train')\n",
    "plt.plot(loss_test_hist, label='Test')\n",
    "\n",
    "ymin, ymax = plt.ylim()\n",
    "plt.vlines(best_epoch, ymin, ymax, color='g', linestyles='--')\n",
    "plt.title('Learning Curve for Loss');\n",
    "plt.legend()\n",
    "plt.grid()"
   ]
  },
  {
   "cell_type": "markdown",
   "id": "d822bdfa",
   "metadata": {},
   "source": [
    "### Test Model "
   ]
  },
  {
   "cell_type": "code",
   "execution_count": 9,
   "id": "081ea0db",
   "metadata": {},
   "outputs": [
    {
     "data": {
      "text/plain": [
       "(array([[9.85260407e-01, 1.34512344e-01, 5.73867584e-05],\n",
       "        [9.56003841e-01, 1.85920200e-01, 2.53747501e-04],\n",
       "        [9.82606769e-01, 1.53963029e-01, 6.46369998e-05],\n",
       "        [9.93041731e-04, 3.63273022e-01, 5.50142294e-01],\n",
       "        [2.32482934e-02, 3.59971967e-01, 7.39188884e-02],\n",
       "        [9.65087633e-01, 2.02589545e-01, 1.80928950e-04],\n",
       "        [9.35432974e-01, 1.75991343e-01, 2.54446182e-04],\n",
       "        [6.14181872e-04, 3.83595481e-01, 7.01421623e-01],\n",
       "        [2.08379323e-04, 4.47856526e-01, 9.11209435e-01],\n",
       "        [2.19468536e-02, 3.92077183e-01, 1.00038247e-01],\n",
       "        [7.79618730e-03, 3.08418015e-01, 2.12054167e-01],\n",
       "        [9.54206734e-01, 2.03866794e-01, 2.59857252e-04],\n",
       "        [1.22539806e-03, 4.12040049e-01, 8.19322557e-01],\n",
       "        [1.80409928e-02, 3.67684831e-01, 8.31948463e-02],\n",
       "        [1.10832904e-03, 5.74992131e-01, 7.93890343e-01],\n",
       "        [8.63314139e-04, 4.94049830e-01, 7.49632876e-01],\n",
       "        [8.52491504e-04, 3.92697157e-01, 7.32584109e-01],\n",
       "        [2.03717151e-03, 3.66755123e-01, 5.48238505e-01],\n",
       "        [2.71609152e-03, 3.09883982e-01, 4.79340245e-01],\n",
       "        [1.16672493e-03, 4.80997586e-01, 6.16122343e-01],\n",
       "        [8.03981536e-03, 3.93119104e-01, 1.82929568e-01],\n",
       "        [9.67822647e-01, 2.14317894e-01, 1.68466004e-04],\n",
       "        [3.03691533e-02, 4.16794644e-01, 1.18782776e-01],\n",
       "        [1.25280032e-02, 4.28457096e-01, 2.58740812e-01],\n",
       "        [1.88308166e-02, 3.83658868e-01, 1.26764474e-01],\n",
       "        [9.84639139e-01, 1.48401213e-01, 5.87687990e-05],\n",
       "        [3.28531237e-04, 3.76554465e-01, 8.04687075e-01],\n",
       "        [9.56266106e-01, 1.94133200e-01, 2.69994915e-04],\n",
       "        [9.81095389e-01, 1.45608133e-01, 6.86261631e-05],\n",
       "        [2.01707765e-04, 3.39796561e-01, 8.22875493e-01]]),\n",
       " array([0, 0, 0, 2, 1, 0, 0, 2, 2, 1, 1, 0, 2, 1, 2, 2, 2, 2, 1, 2, 1, 0,\n",
       "        1, 1, 1, 0, 2, 0, 0, 2]))"
      ]
     },
     "execution_count": 9,
     "metadata": {},
     "output_type": "execute_result"
    }
   ],
   "source": [
    "y_hat_test = multi_logistic_reg(w , x_test)\n",
    "y_hat_test , y_test"
   ]
  },
  {
   "cell_type": "code",
   "execution_count": 10,
   "id": "26c3a1e4-1fdc-45ff-9b4e-55375d0d14d3",
   "metadata": {},
   "outputs": [
    {
     "name": "stdout",
     "output_type": "stream",
     "text": [
      "accuracy: 96.67%\n"
     ]
    }
   ],
   "source": [
    "print(f\"accuracy: {accuracy(y_test, y_hat_test) * 100:.2f}%\")"
   ]
  }
 ],
 "metadata": {
  "kernelspec": {
   "display_name": "base",
   "language": "python",
   "name": "python3"
  },
  "language_info": {
   "codemirror_mode": {
    "name": "ipython",
    "version": 3
   },
   "file_extension": ".py",
   "mimetype": "text/x-python",
   "name": "python",
   "nbconvert_exporter": "python",
   "pygments_lexer": "ipython3",
   "version": "3.11.5"
  }
 },
 "nbformat": 4,
 "nbformat_minor": 5
}
