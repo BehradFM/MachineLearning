{
 "cells": [
  {
   "cell_type": "markdown",
   "id": "4c0fb174-8d42-4538-8282-50d0ad1c948e",
   "metadata": {},
   "source": [
    "## Logistic Regression From Scratch (One class)"
   ]
  },
  {
   "cell_type": "markdown",
   "id": "821911cb",
   "metadata": {},
   "source": [
    "### Import"
   ]
  },
  {
   "cell_type": "code",
   "execution_count": 115,
   "id": "949cb9d9-d550-4d3c-b561-2a2b1417ed4e",
   "metadata": {},
   "outputs": [],
   "source": [
    "import matplotlib.pyplot as plt\n",
    "import numpy as np\n",
    "import pandas as pd\n",
    "from sklearn.model_selection import train_test_split"
   ]
  },
  {
   "cell_type": "markdown",
   "id": "418cbea3-61af-46d9-b122-2473ce699135",
   "metadata": {},
   "source": [
    "### Data"
   ]
  },
  {
   "cell_type": "code",
   "execution_count": 116,
   "id": "6b45a37e-96d5-4327-82ea-80d0566ebc39",
   "metadata": {},
   "outputs": [
    {
     "data": {
      "text/plain": [
       "((14, 1), (6, 1), (14, 1), (6, 1))"
      ]
     },
     "execution_count": 116,
     "metadata": {},
     "output_type": "execute_result"
    }
   ],
   "source": [
    "df = pd.read_csv(\"Data/exam.csv\")\n",
    "x_train , x_test , y_train , y_test = train_test_split(df[['study_hours']].values , df[['pass_fail']].values , test_size=0.3 , random_state=16)\n",
    "x_train.shape , x_test.shape , y_train.shape , y_test.shape"
   ]
  },
  {
   "cell_type": "markdown",
   "id": "b0ce4799-7f09-4d6f-8f87-f68e9e61a4a6",
   "metadata": {},
   "source": [
    "### Functions"
   ]
  },
  {
   "cell_type": "code",
   "execution_count": 117,
   "id": "e6840183-1d0b-437c-a2b5-e8f89f990ea7",
   "metadata": {},
   "outputs": [],
   "source": [
    "def sigmoid(x):\n",
    "    return 1 / (1 + np.exp(-x))\n",
    "\n",
    "def logistic_reg(w , x):\n",
    "    y_hat = sigmoid(x@w)\n",
    "    return y_hat\n",
    "\n",
    "def bce(y , y_hat):\n",
    "    loss = -(np.mean(y*np.log(y_hat) + (1-y)*np.log(1-y_hat)))\n",
    "    return loss\n",
    "\n",
    "def gradient(x , y , y_hat):\n",
    "    grads = ( x.T @ (y_hat - y) ) / len(y)\n",
    "    return grads\n",
    "\n",
    "def gradient_descent(w, eta, grads):\n",
    "    w -= eta*grads\n",
    "    return w\n",
    "\n",
    "def accuracy(y, y_hat):\n",
    "    acc = np.sum(y == np.round(y_hat)) / len(y)\n",
    "    return acc"
   ]
  },
  {
   "cell_type": "markdown",
   "id": "81cd6d1c-40b5-4919-a50a-6262f1bfac83",
   "metadata": {},
   "source": [
    "### Train Model"
   ]
  },
  {
   "cell_type": "code",
   "execution_count": 118,
   "id": "71aad84d-b204-4082-8297-51a27951e342",
   "metadata": {},
   "outputs": [
    {
     "data": {
      "text/plain": [
       "(array([[1.  , 1.75],\n",
       "        [1.  , 1.  ],\n",
       "        [1.  , 2.25],\n",
       "        [1.  , 2.75],\n",
       "        [1.  , 0.5 ],\n",
       "        [1.  , 5.5 ],\n",
       "        [1.  , 5.  ],\n",
       "        [1.  , 3.5 ],\n",
       "        [1.  , 1.5 ],\n",
       "        [1.  , 3.  ],\n",
       "        [1.  , 0.75],\n",
       "        [1.  , 1.75],\n",
       "        [1.  , 4.  ],\n",
       "        [1.  , 2.5 ]]),\n",
       " array([[1.  , 1.25],\n",
       "        [1.  , 4.75],\n",
       "        [1.  , 4.5 ],\n",
       "        [1.  , 4.25],\n",
       "        [1.  , 3.25],\n",
       "        [1.  , 2.  ]]))"
      ]
     },
     "execution_count": 118,
     "metadata": {},
     "output_type": "execute_result"
    }
   ],
   "source": [
    "x_train = np.hstack((np.ones((len(x_train), 1)), x_train))\n",
    "x_test = np.hstack((np.ones((len(x_test), 1)), x_test))\n",
    "\n",
    "x_train , x_test "
   ]
  },
  {
   "cell_type": "code",
   "execution_count": 119,
   "id": "28f4b2bf-5330-480b-86bf-653bbca04810",
   "metadata": {},
   "outputs": [],
   "source": [
    "n , m = x_train.shape\n",
    "w = np.random.randn(m , 1)"
   ]
  },
  {
   "cell_type": "code",
   "execution_count": 120,
   "id": "a63254cc-bf32-4d13-92d0-e6f9c5be294d",
   "metadata": {},
   "outputs": [
    {
     "name": "stdout",
     "output_type": "stream",
     "text": [
      "Epoch=99, \t Loss_train=0.576,\t Loss_test=0.4716, \t w=[-0.90133403  0.36743655]\n",
      "Epoch=199, \t Loss_train=0.5627,\t Loss_test=0.4477, \t w=[-1.05505679  0.4207505 ]\n",
      "Epoch=299, \t Loss_train=0.5518,\t Loss_test=0.4297, \t w=[-1.19552441  0.46522931]\n",
      "Epoch=399, \t Loss_train=0.5428,\t Loss_test=0.414, \t w=[-1.32317986  0.50576815]\n",
      "Epoch=499, \t Loss_train=0.5353,\t Loss_test=0.4001, \t w=[-1.43955721  0.54287678]\n",
      "Epoch=599, \t Loss_train=0.5291,\t Loss_test=0.3877, \t w=[-1.54598393  0.57693998]\n",
      "Epoch=699, \t Loss_train=0.5238,\t Loss_test=0.3767, \t w=[-1.64359586  0.60828906]\n",
      "Epoch=799, \t Loss_train=0.5193,\t Loss_test=0.3668, \t w=[-1.73336734  0.63721058]\n",
      "Epoch=899, \t Loss_train=0.5156,\t Loss_test=0.3579, \t w=[-1.81613711  0.66395309]\n",
      "Epoch=999, \t Loss_train=0.5123,\t Loss_test=0.3499, \t w=[-1.89263003  0.6887329 ]\n",
      "Best epoch:999, Best loss:0.3498820952367165\n"
     ]
    }
   ],
   "source": [
    "import joblib\n",
    "\n",
    "loss_train_hist, loss_test_hist = [], []\n",
    "best_loss = np.inf\n",
    "n_es = 0\n",
    "n_epochs = 1000\n",
    "eta = 0.02\n",
    "\n",
    "for epoch in range(n_epochs):\n",
    "    # predictions\n",
    "    y_hat_train = logistic_reg(w, x_train)\n",
    "    y_hat_test = logistic_reg(w, x_test)\n",
    "    \n",
    "    # loss\n",
    "    loss_train = bce(y_train , y_hat_train)\n",
    "    loss_train_hist.append(loss_train)\n",
    "    \n",
    "    loss_test = bce(y_test , y_hat_test)\n",
    "    loss_test_hist.append(loss_test)\n",
    "\n",
    "    # gradients\n",
    "    grads = gradient(x_train , y_train , y_hat_train)\n",
    "\n",
    "    # gradient descent\n",
    "    w = gradient_descent(w , eta , grads)\n",
    "\n",
    "    # early stopping\n",
    "    if loss_test < best_loss:\n",
    "        best_loss = loss_test\n",
    "        joblib.dump(w, 'best-model.joblib')\n",
    "        best_epoch = epoch\n",
    "        n_es = 0\n",
    "    else:\n",
    "        n_es += 1\n",
    "        if n_es >= 5:\n",
    "            break\n",
    "        \n",
    "    if (epoch+1) % 100 == 0:\n",
    "        print(f'Epoch={epoch}, \\t Loss_train={loss_train:.4},\\t Loss_test={loss_test:.4}, \\t w={w.T[0]}')\n",
    "\n",
    "print(f'Best epoch:{best_epoch}, Best loss:{best_loss}')\n"
   ]
  },
  {
   "cell_type": "markdown",
   "id": "66e76b9e",
   "metadata": {},
   "source": [
    "### Visualize"
   ]
  },
  {
   "cell_type": "code",
   "execution_count": 121,
   "id": "216609d7",
   "metadata": {},
   "outputs": [
    {
     "data": {
      "image/png": "[encoded data removed]",
      "text/plain": [
       "<Figure size 640x480 with 1 Axes>"
      ]
     },
     "metadata": {},
     "output_type": "display_data"
    }
   ],
   "source": [
    "plt.plot(loss_train_hist, label='Train')\n",
    "plt.plot(loss_test_hist, label='Test')\n",
    "\n",
    "ymin, ymax = plt.ylim()\n",
    "plt.vlines(best_epoch, ymin, ymax, color='g', linestyles='--')\n",
    "plt.title('Learning Curve for Loss');\n",
    "plt.legend()\n",
    "plt.grid()"
   ]
  },
  {
   "cell_type": "markdown",
   "id": "faa80e9e-0871-44e8-8977-08a71cefccd6",
   "metadata": {},
   "source": [
    "### Test Model "
   ]
  },
  {
   "cell_type": "code",
   "execution_count": 122,
   "id": "70ef8276-f5ad-40f8-bceb-afe9a38eb349",
   "metadata": {},
   "outputs": [
    {
     "data": {
      "text/plain": [
       "(array([[0.26275196],\n",
       "        [0.79880644],\n",
       "        [0.76970886],\n",
       "        [0.73778444],\n",
       "        [0.58558705],\n",
       "        [0.37398369]]),\n",
       " array([[0],\n",
       "        [1],\n",
       "        [1],\n",
       "        [1],\n",
       "        [1],\n",
       "        [0]], dtype=int64))"
      ]
     },
     "execution_count": 122,
     "metadata": {},
     "output_type": "execute_result"
    }
   ],
   "source": [
    "y_hat_test = logistic_reg(w , x_test)\n",
    "y_hat_test , y_test"
   ]
  },
  {
   "cell_type": "code",
   "execution_count": 123,
   "id": "24c2823a-7a85-45e7-a6fa-30a099ab0acc",
   "metadata": {},
   "outputs": [
    {
     "name": "stdout",
     "output_type": "stream",
     "text": [
      "accuracy: 100.0%\n"
     ]
    }
   ],
   "source": [
    "print(f\"accuracy: {accuracy(y_test , y_hat_test) * 100}%\") "
   ]
  }
 ],
 "metadata": {
  "kernelspec": {
   "display_name": "base",
   "language": "python",
   "name": "python3"
  },
  "language_info": {
   "codemirror_mode": {
    "name": "ipython",
    "version": 3
   },
   "file_extension": ".py",
   "mimetype": "text/x-python",
   "name": "python",
   "nbconvert_exporter": "python",
   "pygments_lexer": "ipython3",
   "version": "3.11.5"
  }
 },
 "nbformat": 4,
 "nbformat_minor": 5
}
